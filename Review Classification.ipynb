{
 "cells": [
  {
   "cell_type": "markdown",
   "id": "angry-preference",
   "metadata": {},
   "source": [
    "## Exploring Accenture Text data"
   ]
  },
  {
   "cell_type": "markdown",
   "id": "laden-academy",
   "metadata": {},
   "source": [
    "### This analysis is structured into 4 part\n",
    "- 1) Loading\n",
    "- 2) Analysis \n",
    "- 4) Preporcessing\n",
    "- 3) Model development and evaluation"
   ]
  },
  {
   "cell_type": "code",
   "execution_count": 8,
   "id": "orange-monitoring",
   "metadata": {},
   "outputs": [
    {
     "name": "stdout",
     "output_type": "stream",
     "text": [
      "\u001b[31mERROR: Could not find a version that satisfies the requirement tensorflow-gpu\u001b[0m\n",
      "\u001b[31mERROR: No matching distribution found for tensorflow-gpu\u001b[0m\n"
     ]
    }
   ],
   "source": [
    "#! pip install --user --upgrade tensorflow-gpu"
   ]
  },
  {
   "cell_type": "code",
   "execution_count": 1,
   "id": "skilled-bangladesh",
   "metadata": {},
   "outputs": [],
   "source": [
    "#! pip install tensorflow==2.2"
   ]
  },
  {
   "cell_type": "code",
   "execution_count": 2,
   "id": "english-desperate",
   "metadata": {},
   "outputs": [],
   "source": [
    "#!pip install tensorboard==2.2.0\n",
    "#!pip install keras"
   ]
  },
  {
   "cell_type": "code",
   "execution_count": 6,
   "id": "metallic-contractor",
   "metadata": {},
   "outputs": [],
   "source": [
    "import pandas as pd\n",
    "import json\n",
    "import os\n",
    "import re\n",
    "import numpy as np\n",
    "import string \n",
    "from nltk.tokenize import RegexpTokenizer\n",
    "import nltk\n",
    "import math\n",
    "import sys\n",
    "from subprocess import call\n",
    "from nltk import FreqDist\n",
    "import sklearn as sk\n",
    "import pickle\n",
    "from collections import Counter\n",
    "import requests\n",
    "from nltk.util import ngrams\n",
    "from nltk.stem.porter import PorterStemmer\n",
    "from sklearn.feature_extraction.text import  TfidfTransformer\n",
    "from sklearn.feature_extraction.stop_words import ENGLISH_STOP_WORDS\n",
    "from tensorflow import keras\n",
    "from nltk.tokenize import word_tokenize\n",
    "from nltk.stem import WordNetLemmatizer\n",
    "from sklearn.feature_extraction.text import CountVectorizer\n",
    "from nltk.corpus import stopwords\n",
    "from sklearn.pipeline import Pipeline\n",
    "from sklearn.naive_bayes import MultinomialNB\n",
    "from sklearn.model_selection import train_test_split\n",
    "from sklearn.metrics import confusion_matrix,classification_report\n",
    "from keras.models import Sequential\n",
    "from keras.layers import Dense\n",
    "from keras.layers import LSTM\n",
    "from keras.layers import SpatialDropout1D\n",
    "from keras.layers.embeddings import Embedding\n",
    "from keras.preprocessing import sequence\n",
    "from keras.preprocessing.text import Tokenizer\n",
    "from keras.callbacks import EarlyStopping\n",
    "from sklearn.metrics import roc_curve\n",
    "from sklearn.metrics import roc_auc_score\n",
    "import matplotlib as plt\n",
    "from sklearn.datasets import make_classification\n",
    "from sklearn.linear_model import LogisticRegression\n",
    "from sklearn.model_selection import train_test_split\n",
    "from sklearn.metrics import precision_recall_curve\n",
    "from sklearn.metrics import f1_score\n",
    "from sklearn.metrics import auc\n",
    "from matplotlib import pyplot\n",
    "import matplotlib as plt\n",
    "\n",
    "#!pip install spacy\n",
    "#!python -m spacy download en_core_web_sm"
   ]
  },
  {
   "cell_type": "code",
   "execution_count": null,
   "id": "ongoing-postage",
   "metadata": {},
   "outputs": [],
   "source": []
  },
  {
   "cell_type": "code",
   "execution_count": 7,
   "id": "enabling-garbage",
   "metadata": {},
   "outputs": [
    {
     "data": {
      "text/plain": [
       "'/Users/julia/Downloads'"
      ]
     },
     "execution_count": 7,
     "metadata": {},
     "output_type": "execute_result"
    }
   ],
   "source": [
    "pwd()\n"
   ]
  },
  {
   "cell_type": "code",
   "execution_count": 8,
   "id": "elementary-graduation",
   "metadata": {},
   "outputs": [],
   "source": [
    "review = []\n",
    "for line in open('Beauty_5_50000.json', 'r'):\n",
    "    review.append(json.loads(line))"
   ]
  },
  {
   "cell_type": "code",
   "execution_count": 9,
   "id": "european-jungle",
   "metadata": {},
   "outputs": [],
   "source": [
    "df=pd.DataFrame(review)"
   ]
  },
  {
   "cell_type": "code",
   "execution_count": 11,
   "id": "meaning-operations",
   "metadata": {},
   "outputs": [
    {
     "name": "stdout",
     "output_type": "stream",
     "text": [
      "<class 'pandas.core.frame.DataFrame'>\n",
      "RangeIndex: 50000 entries, 0 to 49999\n",
      "Data columns (total 9 columns):\n",
      " #   Column          Non-Null Count  Dtype \n",
      "---  ------          --------------  ----- \n",
      " 0   asin            50000 non-null  object\n",
      " 1   helpful         50000 non-null  object\n",
      " 2   overall         50000 non-null  int64 \n",
      " 3   reviewText      50000 non-null  object\n",
      " 4   reviewTime      50000 non-null  object\n",
      " 5   reviewerID      50000 non-null  object\n",
      " 6   reviewerName    49654 non-null  object\n",
      " 7   summary         50000 non-null  object\n",
      " 8   unixReviewTime  50000 non-null  int64 \n",
      "dtypes: int64(2), object(7)\n",
      "memory usage: 3.4+ MB\n"
     ]
    }
   ],
   "source": [
    "df.info()"
   ]
  },
  {
   "cell_type": "markdown",
   "id": "alpine-company",
   "metadata": {},
   "source": [
    "## How are the classes (0-5) distributed ?"
   ]
  },
  {
   "cell_type": "code",
   "execution_count": 10,
   "id": "going-embassy",
   "metadata": {},
   "outputs": [
    {
     "data": {
      "text/plain": [
       "<AxesSubplot:>"
      ]
     },
     "execution_count": 10,
     "metadata": {},
     "output_type": "execute_result"
    },
    {
     "data": {
      "image/png": "[encoded data removed]",
      "text/plain": [
       "<Figure size 432x288 with 1 Axes>"
      ]
     },
     "metadata": {
      "needs_background": "light"
     },
     "output_type": "display_data"
    }
   ],
   "source": [
    "df.overall.value_counts().plot.bar() "
   ]
  },
  {
   "cell_type": "markdown",
   "id": "thorough-strain",
   "metadata": {},
   "source": [
    "### class imbalance\n",
    "but this might be skewed for the number of reviews (E.g having a few product with many positive reviews, and then a large amount with few but negative reviews)"
   ]
  },
  {
   "cell_type": "code",
   "execution_count": 11,
   "id": "recognized-holder",
   "metadata": {},
   "outputs": [
    {
     "data": {
      "text/plain": [
       "5    28842\n",
       "4     9963\n",
       "3     5681\n",
       "2     2843\n",
       "1     2671\n",
       "Name: overall, dtype: int64"
      ]
     },
     "execution_count": 11,
     "metadata": {},
     "output_type": "execute_result"
    }
   ],
   "source": [
    "df.overall.value_counts()"
   ]
  },
  {
   "cell_type": "code",
   "execution_count": 12,
   "id": "funded-filing",
   "metadata": {},
   "outputs": [
    {
     "data": {
      "text/plain": [
       "(5.0, 4.18924)"
      ]
     },
     "execution_count": 12,
     "metadata": {},
     "output_type": "execute_result"
    }
   ],
   "source": [
    "df.overall.median(), df.overall.mean()"
   ]
  },
  {
   "cell_type": "code",
   "execution_count": 13,
   "id": "thousand-colon",
   "metadata": {},
   "outputs": [
    {
     "data": {
      "text/plain": [
       "10926"
      ]
     },
     "execution_count": 13,
     "metadata": {},
     "output_type": "execute_result"
    }
   ],
   "source": [
    "len(df.asin.unique())"
   ]
  },
  {
   "cell_type": "code",
   "execution_count": 14,
   "id": "stainless-possibility",
   "metadata": {},
   "outputs": [
    {
     "data": {
      "text/plain": [
       "19182"
      ]
     },
     "execution_count": 14,
     "metadata": {},
     "output_type": "execute_result"
    }
   ],
   "source": [
    "len(df.reviewerID.unique())"
   ]
  },
  {
   "cell_type": "code",
   "execution_count": 15,
   "id": "parallel-saver",
   "metadata": {},
   "outputs": [
    {
     "data": {
      "text/plain": [
       "17023"
      ]
     },
     "execution_count": 15,
     "metadata": {},
     "output_type": "execute_result"
    }
   ],
   "source": [
    "len(df.reviewerName.unique())"
   ]
  },
  {
   "cell_type": "markdown",
   "id": "specialized-cheese",
   "metadata": {},
   "source": [
    "### How are the number of reviews distributed across different products ? "
   ]
  },
  {
   "cell_type": "code",
   "execution_count": 17,
   "id": "impossible-bones",
   "metadata": {},
   "outputs": [],
   "source": [
    "df.asin.value_counts().plot.bar(figsize=(80,20))"
   ]
  },
  {
   "cell_type": "markdown",
   "id": "maritime-million",
   "metadata": {},
   "source": [
    "### Let's find out the average rating per product"
   ]
  },
  {
   "cell_type": "code",
   "execution_count": 18,
   "id": "printable-thanks",
   "metadata": {},
   "outputs": [],
   "source": [
    "dfsub =df.groupby('asin', as_index=False).agg({\"overall\": \"mean\"})\n",
    "df = pd.merge(df, dfsub, how='outer', on='asin')\n",
    "df.rename(columns={'overall_y': 'average_rating'}, inplace=True)"
   ]
  },
  {
   "cell_type": "code",
   "execution_count": 19,
   "id": "joined-entry",
   "metadata": {},
   "outputs": [],
   "source": [
    "df.rename(columns={'overall_x': 'overall'}, inplace=True)"
   ]
  },
  {
   "cell_type": "code",
   "execution_count": 20,
   "id": "headed-renewal",
   "metadata": {},
   "outputs": [],
   "source": [
    "dfsub = df.drop_duplicates(subset=['asin'], keep='first')"
   ]
  },
  {
   "cell_type": "code",
   "execution_count": 21,
   "id": "injured-carrier",
   "metadata": {},
   "outputs": [
    {
     "name": "stderr",
     "output_type": "stream",
     "text": [
      "/Users/julia/opt/anaconda3/lib/python3.7/site-packages/ipykernel_launcher.py:1: SettingWithCopyWarning: \n",
      "A value is trying to be set on a copy of a slice from a DataFrame.\n",
      "Try using .loc[row_indexer,col_indexer] = value instead\n",
      "\n",
      "See the caveats in the documentation: https://pandas.pydata.org/pandas-docs/stable/user_guide/indexing.html#returning-a-view-versus-a-copy\n",
      "  \"\"\"Entry point for launching an IPython kernel.\n"
     ]
    }
   ],
   "source": [
    "dfsub['average_rating']=dfsub.average_rating.round(1)"
   ]
  },
  {
   "cell_type": "code",
   "execution_count": 22,
   "id": "incorporate-taxation",
   "metadata": {},
   "outputs": [
    {
     "data": {
      "text/plain": [
       "<AxesSubplot:>"
      ]
     },
     "execution_count": 22,
     "metadata": {},
     "output_type": "execute_result"
    },
    {
     "data": {
      "image/png": "[encoded data removed]",
      "text/plain": [
       "<Figure size 432x288 with 1 Axes>"
      ]
     },
     "metadata": {
      "needs_background": "light"
     },
     "output_type": "display_data"
    }
   ],
   "source": [
    "dfsub.average_rating.value_counts().sort_index().plot.bar() "
   ]
  },
  {
   "cell_type": "markdown",
   "id": "central-swift",
   "metadata": {},
   "source": [
    "#### Analysis shows:\n",
    "Reviews seem to be fairly distributed acorss products, but the class imbalance (between pos and neg reviews is sitll an issue going forward)"
   ]
  },
  {
   "cell_type": "code",
   "execution_count": 23,
   "id": "extensive-joyce",
   "metadata": {},
   "outputs": [
    {
     "data": {
      "text/plain": [
       "reviewerID             average_rating\n",
       "A02155413BVL8D0G7X6DN  5.0               1\n",
       "A029527620Q3SK5XW16RR  3.0               1\n",
       "A03364251DGXSGA9PSR99  2.5               1\n",
       "                       4.0               1\n",
       "                       4.3               1\n",
       "                                        ..\n",
       "AZYN9RRLZUNVA          4.8               1\n",
       "                       5.0               1\n",
       "AZZ5ASC403N74          4.1               1\n",
       "AZZT1ERHBSNQ8          4.5               1\n",
       "AZZU6NXB8YJN9          4.0               1\n",
       "Name: asin, Length: 10171, dtype: int64"
      ]
     },
     "execution_count": 23,
     "metadata": {},
     "output_type": "execute_result"
    }
   ],
   "source": [
    "dfsub.groupby(['reviewerID', 'average_rating'])['asin'].count()"
   ]
  },
  {
   "cell_type": "markdown",
   "id": "charming-sherman",
   "metadata": {},
   "source": [
    "### Data Preparation"
   ]
  },
  {
   "cell_type": "code",
   "execution_count": null,
   "id": "periodic-council",
   "metadata": {},
   "outputs": [],
   "source": []
  },
  {
   "cell_type": "markdown",
   "id": "hourly-organization",
   "metadata": {},
   "source": [
    "### Since we have strong class imbalance, it makes sense to aggregate reviews.\n",
    "Even though logically, we would group 5 star and 4 star reviews together, it wouldn't help the class imbalance as 1, 2 and 3 star reviews grouped are still to small. Hence, we will be aggregating 1, 2, 3 and 4 star reviews. With this approach, we train a classifier that is conservative which will not perform as well, since we can anticipate that the difference between a 4 star and 5 star reviews is difficult to detect just from the text"
   ]
  },
  {
   "cell_type": "code",
   "execution_count": 24,
   "id": "hydraulic-california",
   "metadata": {},
   "outputs": [],
   "source": [
    "#create two labels, 0 corresponding to negative, 1 to positive.\n",
    "df['label'] = 0\n",
    "for x in df.index:\n",
    "    if df.loc[x, 'overall'] > 3:\n",
    "        df.loc[x, 'label'] =  1       "
   ]
  },
  {
   "cell_type": "code",
   "execution_count": 25,
   "id": "defensive-tonight",
   "metadata": {},
   "outputs": [
    {
     "data": {
      "text/plain": [
       "<AxesSubplot:>"
      ]
     },
     "execution_count": 25,
     "metadata": {},
     "output_type": "execute_result"
    },
    {
     "data": {
      "image/png": "[encoded data removed]",
      "text/plain": [
       "<Figure size 432x288 with 1 Axes>"
      ]
     },
     "metadata": {
      "needs_background": "light"
     },
     "output_type": "display_data"
    }
   ],
   "source": [
    "df.label.value_counts().plot.bar() "
   ]
  },
  {
   "cell_type": "code",
   "execution_count": 26,
   "id": "retired-canal",
   "metadata": {},
   "outputs": [
    {
     "data": {
      "text/plain": [
       "1    38805\n",
       "0    11195\n",
       "Name: label, dtype: int64"
      ]
     },
     "execution_count": 26,
     "metadata": {},
     "output_type": "execute_result"
    }
   ],
   "source": [
    "df.label.value_counts()"
   ]
  },
  {
   "cell_type": "markdown",
   "id": "automatic-pricing",
   "metadata": {},
   "source": [
    "### Review length matters, \n",
    "Since we are working with text. To more text there is to describe positive or negative review, the better the classifer can be trained. "
   ]
  },
  {
   "cell_type": "code",
   "execution_count": 28,
   "id": "satisfactory-horizon",
   "metadata": {},
   "outputs": [],
   "source": [
    "df['length'] = df['reviewText'].apply(len)"
   ]
  },
  {
   "cell_type": "code",
   "execution_count": 29,
   "id": "thirty-coast",
   "metadata": {},
   "outputs": [
    {
     "data": {
      "text/plain": [
       "array([<AxesSubplot:title={'center':'0'}>,\n",
       "       <AxesSubplot:title={'center':'1'}>], dtype=object)"
      ]
     },
     "execution_count": 29,
     "metadata": {},
     "output_type": "execute_result"
    },
    {
     "data": {
      "image/png": "[encoded data removed]",
      "text/plain": [
       "<Figure size 864x288 with 2 Axes>"
      ]
     },
     "metadata": {
      "needs_background": "light"
     },
     "output_type": "display_data"
    }
   ],
   "source": [
    "df.hist(column='length', by='label', bins=60,figsize=(12,4))"
   ]
  },
  {
   "cell_type": "markdown",
   "id": "amazing-appliance",
   "metadata": {},
   "source": [
    "### Building a classifier\n",
    "\n",
    "Classification models that are built based on the review text as the independent variable to predict whether a customer recommends a product. \n",
    "semantic parsing where the word sequence, word usage as noun or verb, hierarchial word structure etc matters. \n",
    "Bag of words where all the words are analysed as a single token and order does not matter\n"
   ]
  },
  {
   "cell_type": "code",
   "execution_count": 30,
   "id": "dominant-bones",
   "metadata": {},
   "outputs": [],
   "source": [
    "#removing punctuation\n",
    "def remove_punc(text):\n",
    "    nopunc = ([x for x in text if x not in string.punctuation])\n",
    "    nopunc = ''.join(nopunc)\n",
    "    return nopunc"
   ]
  },
  {
   "cell_type": "code",
   "execution_count": 31,
   "id": "working-behavior",
   "metadata": {},
   "outputs": [],
   "source": [
    "tokenizer = RegexpTokenizer('\\w+|\\$[\\d\\.]+|\\S+')"
   ]
  },
  {
   "cell_type": "code",
   "execution_count": 32,
   "id": "extra-contract",
   "metadata": {},
   "outputs": [],
   "source": [
    "df['reviews'] = df['reviewText'].apply(lambda x: remove_punc(x))"
   ]
  },
  {
   "cell_type": "code",
   "execution_count": 33,
   "id": "explicit-biology",
   "metadata": {},
   "outputs": [],
   "source": [
    "df['reviews'] = df['reviews'].apply(lambda x: tokenizer.tokenize(x.lower()))"
   ]
  },
  {
   "cell_type": "code",
   "execution_count": 34,
   "id": "universal-thailand",
   "metadata": {},
   "outputs": [],
   "source": [
    "#removing stopwords (such as I, and)\n",
    "def stop_words(text):\n",
    "    words = [x for x in text if x not in stopwords.words('english')]\n",
    "    #words = ' '.join(words)\n",
    "    return words"
   ]
  },
  {
   "cell_type": "code",
   "execution_count": 35,
   "id": "offshore-aberdeen",
   "metadata": {},
   "outputs": [],
   "source": [
    "df['reviews'] = df['reviews'].apply(lambda x: stop_words(x))"
   ]
  },
  {
   "cell_type": "code",
   "execution_count": 36,
   "id": "accepting-athens",
   "metadata": {},
   "outputs": [],
   "source": [
    "#We can try to either use a stemmer or a lemmatizer. Stemming is more aggresive, but may miss relationships such as feel and felt\n",
    "import nltk\n",
    "def stem_with_porter(words):\n",
    "    porter = nltk.PorterStemmer()\n",
    "    new_words = [porter.stem(w) for w in words]\n",
    "    new_words = ' '.join(new_words)\n",
    "    return new_words"
   ]
  },
  {
   "cell_type": "code",
   "execution_count": 22,
   "id": "handed-physics",
   "metadata": {},
   "outputs": [],
   "source": [
    "lemmatizer = WordNetLemmatizer()\n",
    "\n",
    "def word_lemma(text):\n",
    "    lemma = [lemmatizer.lemmatize(i) for i in text]\n",
    "    lemma = ' '.join(lemma)\n",
    "    return lemma"
   ]
  },
  {
   "cell_type": "code",
   "execution_count": 23,
   "id": "proper-password",
   "metadata": {},
   "outputs": [],
   "source": [
    "df['reviews'] = df['reviews'].apply(lambda x: stem_with_porter(x))"
   ]
  },
  {
   "cell_type": "code",
   "execution_count": 37,
   "id": "incomplete-graphics",
   "metadata": {},
   "outputs": [
    {
     "data": {
      "text/html": [
       "<div>\n",
       "<style scoped>\n",
       "    .dataframe tbody tr th:only-of-type {\n",
       "        vertical-align: middle;\n",
       "    }\n",
       "\n",
       "    .dataframe tbody tr th {\n",
       "        vertical-align: top;\n",
       "    }\n",
       "\n",
       "    .dataframe thead th {\n",
       "        text-align: right;\n",
       "    }\n",
       "</style>\n",
       "<table border=\"1\" class=\"dataframe\">\n",
       "  <thead>\n",
       "    <tr style=\"text-align: right;\">\n",
       "      <th></th>\n",
       "      <th>asin</th>\n",
       "      <th>helpful</th>\n",
       "      <th>overall</th>\n",
       "      <th>reviewText</th>\n",
       "      <th>reviewTime</th>\n",
       "      <th>reviewerID</th>\n",
       "      <th>reviewerName</th>\n",
       "      <th>summary</th>\n",
       "      <th>unixReviewTime</th>\n",
       "      <th>average_rating</th>\n",
       "      <th>label</th>\n",
       "      <th>length</th>\n",
       "      <th>reviews</th>\n",
       "    </tr>\n",
       "  </thead>\n",
       "  <tbody>\n",
       "    <tr>\n",
       "      <th>0</th>\n",
       "      <td>9759091062</td>\n",
       "      <td>[0, 0]</td>\n",
       "      <td>3</td>\n",
       "      <td>I bought this product to get rid of the dark s...</td>\n",
       "      <td>12 27, 2013</td>\n",
       "      <td>A30IP88QK3YUIO</td>\n",
       "      <td>Amina Bint Ibraheem</td>\n",
       "      <td>Its alright</td>\n",
       "      <td>1388102400</td>\n",
       "      <td>3.5</td>\n",
       "      <td>0</td>\n",
       "      <td>253</td>\n",
       "      <td>[bought, product, get, rid, dark, spots, face,...</td>\n",
       "    </tr>\n",
       "    <tr>\n",
       "      <th>1</th>\n",
       "      <td>9759091062</td>\n",
       "      <td>[0, 1]</td>\n",
       "      <td>5</td>\n",
       "      <td>I bought this product about 3 months ago, I fi...</td>\n",
       "      <td>01 23, 2014</td>\n",
       "      <td>A1EVGDOTGFZOSS</td>\n",
       "      <td>Jessica \"Anarchykisses\"</td>\n",
       "      <td>This works</td>\n",
       "      <td>1390435200</td>\n",
       "      <td>3.5</td>\n",
       "      <td>1</td>\n",
       "      <td>338</td>\n",
       "      <td>[bought, product, 3, months, ago, finished, tu...</td>\n",
       "    </tr>\n",
       "    <tr>\n",
       "      <th>2</th>\n",
       "      <td>9759091062</td>\n",
       "      <td>[0, 0]</td>\n",
       "      <td>1</td>\n",
       "      <td>This gell did nothing at all. I religiously pu...</td>\n",
       "      <td>01 11, 2014</td>\n",
       "      <td>AP5WTCMP6DTRV</td>\n",
       "      <td>Layla B</td>\n",
       "      <td>Does nothing</td>\n",
       "      <td>1389398400</td>\n",
       "      <td>3.5</td>\n",
       "      <td>0</td>\n",
       "      <td>121</td>\n",
       "      <td>[gell, nothing, religiously, put, specific, ar...</td>\n",
       "    </tr>\n",
       "    <tr>\n",
       "      <th>3</th>\n",
       "      <td>9759091062</td>\n",
       "      <td>[0, 1]</td>\n",
       "      <td>5</td>\n",
       "      <td>i got this to get rid of a scar and it did jus...</td>\n",
       "      <td>02 18, 2014</td>\n",
       "      <td>A21IM16PQWKVO5</td>\n",
       "      <td>mdub9922</td>\n",
       "      <td>it works</td>\n",
       "      <td>1392681600</td>\n",
       "      <td>3.5</td>\n",
       "      <td>1</td>\n",
       "      <td>207</td>\n",
       "      <td>[got, get, rid, scar, looking, remove, discolo...</td>\n",
       "    </tr>\n",
       "    <tr>\n",
       "      <th>4</th>\n",
       "      <td>9788072216</td>\n",
       "      <td>[24, 24]</td>\n",
       "      <td>5</td>\n",
       "      <td>I haven't been a big fan of Prada's fragrances...</td>\n",
       "      <td>09 19, 2011</td>\n",
       "      <td>A1QV5IH6HDRN0L</td>\n",
       "      <td>armygirl</td>\n",
       "      <td>Love the smell of this!</td>\n",
       "      <td>1316390400</td>\n",
       "      <td>5.0</td>\n",
       "      <td>1</td>\n",
       "      <td>485</td>\n",
       "      <td>[havent, big, fan, pradas, fragrances, years, ...</td>\n",
       "    </tr>\n",
       "    <tr>\n",
       "      <th>...</th>\n",
       "      <td>...</td>\n",
       "      <td>...</td>\n",
       "      <td>...</td>\n",
       "      <td>...</td>\n",
       "      <td>...</td>\n",
       "      <td>...</td>\n",
       "      <td>...</td>\n",
       "      <td>...</td>\n",
       "      <td>...</td>\n",
       "      <td>...</td>\n",
       "      <td>...</td>\n",
       "      <td>...</td>\n",
       "      <td>...</td>\n",
       "    </tr>\n",
       "    <tr>\n",
       "      <th>49995</th>\n",
       "      <td>B00L6Q3BH6</td>\n",
       "      <td>[10, 10]</td>\n",
       "      <td>4</td>\n",
       "      <td>I feel like I could pierce a man's soul while ...</td>\n",
       "      <td>04 24, 2014</td>\n",
       "      <td>A12UT32YCU0WT0</td>\n",
       "      <td>Marie Esther</td>\n",
       "      <td>Such a beautiful color</td>\n",
       "      <td>1398297600</td>\n",
       "      <td>4.0</td>\n",
       "      <td>1</td>\n",
       "      <td>742</td>\n",
       "      <td>[feel, like, could, pierce, mans, soul, wearin...</td>\n",
       "    </tr>\n",
       "    <tr>\n",
       "      <th>49996</th>\n",
       "      <td>B00L6Q3BH6</td>\n",
       "      <td>[0, 0]</td>\n",
       "      <td>5</td>\n",
       "      <td>I love this like I love all limecrimemakeup pr...</td>\n",
       "      <td>05 8, 2014</td>\n",
       "      <td>A242EJZ1C5N4LM</td>\n",
       "      <td>Sherry</td>\n",
       "      <td>love velviteens</td>\n",
       "      <td>1399507200</td>\n",
       "      <td>4.0</td>\n",
       "      <td>1</td>\n",
       "      <td>126</td>\n",
       "      <td>[love, like, love, limecrimemakeup, products, ...</td>\n",
       "    </tr>\n",
       "    <tr>\n",
       "      <th>49997</th>\n",
       "      <td>B00LCEROA2</td>\n",
       "      <td>[0, 0]</td>\n",
       "      <td>5</td>\n",
       "      <td>I love to mix this rosehip oil with my other e...</td>\n",
       "      <td>07 12, 2014</td>\n",
       "      <td>A2W37S6VC464WK</td>\n",
       "      <td>Cameron</td>\n",
       "      <td>Love This!</td>\n",
       "      <td>1405123200</td>\n",
       "      <td>5.0</td>\n",
       "      <td>1</td>\n",
       "      <td>142</td>\n",
       "      <td>[love, mix, rosehip, oil, essential, oils, boo...</td>\n",
       "    </tr>\n",
       "    <tr>\n",
       "      <th>49998</th>\n",
       "      <td>B00LCEROA2</td>\n",
       "      <td>[0, 0]</td>\n",
       "      <td>5</td>\n",
       "      <td>Alot of product that has rosehip oil is costly...</td>\n",
       "      <td>07 3, 2014</td>\n",
       "      <td>A30WU937PCLEG1</td>\n",
       "      <td>Peter</td>\n",
       "      <td>Works Great!</td>\n",
       "      <td>1404345600</td>\n",
       "      <td>5.0</td>\n",
       "      <td>1</td>\n",
       "      <td>421</td>\n",
       "      <td>[alot, product, rosehip, oil, costly, dr, song...</td>\n",
       "    </tr>\n",
       "    <tr>\n",
       "      <th>49999</th>\n",
       "      <td>B00LLPT4HI</td>\n",
       "      <td>[0, 0]</td>\n",
       "      <td>5</td>\n",
       "      <td>I have very dry elbows and knees.  I have a to...</td>\n",
       "      <td>07 15, 2014</td>\n",
       "      <td>A3LGT6UZL99IW1</td>\n",
       "      <td>Richard C. Drew \"Anaal Nathra/Uthe vas Bethod...</td>\n",
       "      <td>This stuff is amazing!</td>\n",
       "      <td>1405382400</td>\n",
       "      <td>5.0</td>\n",
       "      <td>1</td>\n",
       "      <td>1505</td>\n",
       "      <td>[dry, elbows, knees, torn, tendon, left, foot,...</td>\n",
       "    </tr>\n",
       "  </tbody>\n",
       "</table>\n",
       "<p>50000 rows × 13 columns</p>\n",
       "</div>"
      ],
      "text/plain": [
       "             asin   helpful  overall  \\\n",
       "0      9759091062    [0, 0]        3   \n",
       "1      9759091062    [0, 1]        5   \n",
       "2      9759091062    [0, 0]        1   \n",
       "3      9759091062    [0, 1]        5   \n",
       "4      9788072216  [24, 24]        5   \n",
       "...           ...       ...      ...   \n",
       "49995  B00L6Q3BH6  [10, 10]        4   \n",
       "49996  B00L6Q3BH6    [0, 0]        5   \n",
       "49997  B00LCEROA2    [0, 0]        5   \n",
       "49998  B00LCEROA2    [0, 0]        5   \n",
       "49999  B00LLPT4HI    [0, 0]        5   \n",
       "\n",
       "                                              reviewText   reviewTime  \\\n",
       "0      I bought this product to get rid of the dark s...  12 27, 2013   \n",
       "1      I bought this product about 3 months ago, I fi...  01 23, 2014   \n",
       "2      This gell did nothing at all. I religiously pu...  01 11, 2014   \n",
       "3      i got this to get rid of a scar and it did jus...  02 18, 2014   \n",
       "4      I haven't been a big fan of Prada's fragrances...  09 19, 2011   \n",
       "...                                                  ...          ...   \n",
       "49995  I feel like I could pierce a man's soul while ...  04 24, 2014   \n",
       "49996  I love this like I love all limecrimemakeup pr...   05 8, 2014   \n",
       "49997  I love to mix this rosehip oil with my other e...  07 12, 2014   \n",
       "49998  Alot of product that has rosehip oil is costly...   07 3, 2014   \n",
       "49999  I have very dry elbows and knees.  I have a to...  07 15, 2014   \n",
       "\n",
       "           reviewerID                                      reviewerName  \\\n",
       "0      A30IP88QK3YUIO                               Amina Bint Ibraheem   \n",
       "1      A1EVGDOTGFZOSS                           Jessica \"Anarchykisses\"   \n",
       "2       AP5WTCMP6DTRV                                           Layla B   \n",
       "3      A21IM16PQWKVO5                                          mdub9922   \n",
       "4      A1QV5IH6HDRN0L                                          armygirl   \n",
       "...               ...                                               ...   \n",
       "49995  A12UT32YCU0WT0                                      Marie Esther   \n",
       "49996  A242EJZ1C5N4LM                                            Sherry   \n",
       "49997  A2W37S6VC464WK                                           Cameron   \n",
       "49998  A30WU937PCLEG1                                             Peter   \n",
       "49999  A3LGT6UZL99IW1  Richard C. Drew \"Anaal Nathra/Uthe vas Bethod...   \n",
       "\n",
       "                       summary  unixReviewTime  average_rating  label  length  \\\n",
       "0                  Its alright      1388102400             3.5      0     253   \n",
       "1                   This works      1390435200             3.5      1     338   \n",
       "2                 Does nothing      1389398400             3.5      0     121   \n",
       "3                     it works      1392681600             3.5      1     207   \n",
       "4      Love the smell of this!      1316390400             5.0      1     485   \n",
       "...                        ...             ...             ...    ...     ...   \n",
       "49995   Such a beautiful color      1398297600             4.0      1     742   \n",
       "49996          love velviteens      1399507200             4.0      1     126   \n",
       "49997               Love This!      1405123200             5.0      1     142   \n",
       "49998             Works Great!      1404345600             5.0      1     421   \n",
       "49999   This stuff is amazing!      1405382400             5.0      1    1505   \n",
       "\n",
       "                                                 reviews  \n",
       "0      [bought, product, get, rid, dark, spots, face,...  \n",
       "1      [bought, product, 3, months, ago, finished, tu...  \n",
       "2      [gell, nothing, religiously, put, specific, ar...  \n",
       "3      [got, get, rid, scar, looking, remove, discolo...  \n",
       "4      [havent, big, fan, pradas, fragrances, years, ...  \n",
       "...                                                  ...  \n",
       "49995  [feel, like, could, pierce, mans, soul, wearin...  \n",
       "49996  [love, like, love, limecrimemakeup, products, ...  \n",
       "49997  [love, mix, rosehip, oil, essential, oils, boo...  \n",
       "49998  [alot, product, rosehip, oil, costly, dr, song...  \n",
       "49999  [dry, elbows, knees, torn, tendon, left, foot,...  \n",
       "\n",
       "[50000 rows x 13 columns]"
      ]
     },
     "execution_count": 37,
     "metadata": {},
     "output_type": "execute_result"
    }
   ],
   "source": [
    "df"
   ]
  },
  {
   "cell_type": "markdown",
   "id": "oriental-haven",
   "metadata": {},
   "source": [
    "### The imbalance of classes\n",
    "Can for example be tackeled by cutting off a certain percentage of the majority class. We could also cluster the 5 star reviews and remove very similar reviews. Howver, this might introduce bias to the model. Thus, for now we will cut off 50% of the majority class, which still results in an imbalance of classes but is less sever"
   ]
  },
  {
   "cell_type": "code",
   "execution_count": 38,
   "id": "soviet-albert",
   "metadata": {},
   "outputs": [],
   "source": [
    "df1 = df[df['overall'] == 5].sample(frac = 0.5)"
   ]
  },
  {
   "cell_type": "code",
   "execution_count": 39,
   "id": "variable-guide",
   "metadata": {},
   "outputs": [],
   "source": [
    "indicies = df1.index.to_list()   \n",
    "df_short=df.drop(df.index[indicies])"
   ]
  },
  {
   "cell_type": "code",
   "execution_count": 40,
   "id": "coupled-convenience",
   "metadata": {},
   "outputs": [
    {
     "data": {
      "text/plain": [
       "(50000, 35579)"
      ]
     },
     "execution_count": 40,
     "metadata": {},
     "output_type": "execute_result"
    }
   ],
   "source": [
    "len(df), len(df_short)"
   ]
  },
  {
   "cell_type": "code",
   "execution_count": 41,
   "id": "excess-richmond",
   "metadata": {},
   "outputs": [
    {
     "data": {
      "text/plain": [
       "<AxesSubplot:>"
      ]
     },
     "execution_count": 41,
     "metadata": {},
     "output_type": "execute_result"
    },
    {
     "data": {
      "image/png": "[encoded data removed]",
      "text/plain": [
       "<Figure size 432x288 with 1 Axes>"
      ]
     },
     "metadata": {
      "needs_background": "light"
     },
     "output_type": "display_data"
    }
   ],
   "source": [
    "df_short.label.value_counts().plot.bar() "
   ]
  },
  {
   "cell_type": "code",
   "execution_count": 42,
   "id": "recognized-venue",
   "metadata": {},
   "outputs": [
    {
     "data": {
      "text/html": [
       "<div>\n",
       "<style scoped>\n",
       "    .dataframe tbody tr th:only-of-type {\n",
       "        vertical-align: middle;\n",
       "    }\n",
       "\n",
       "    .dataframe tbody tr th {\n",
       "        vertical-align: top;\n",
       "    }\n",
       "\n",
       "    .dataframe thead th {\n",
       "        text-align: right;\n",
       "    }\n",
       "</style>\n",
       "<table border=\"1\" class=\"dataframe\">\n",
       "  <thead>\n",
       "    <tr style=\"text-align: right;\">\n",
       "      <th></th>\n",
       "      <th>index</th>\n",
       "      <th>asin</th>\n",
       "      <th>helpful</th>\n",
       "      <th>overall</th>\n",
       "      <th>reviewText</th>\n",
       "      <th>reviewTime</th>\n",
       "      <th>reviewerID</th>\n",
       "      <th>reviewerName</th>\n",
       "      <th>summary</th>\n",
       "      <th>unixReviewTime</th>\n",
       "      <th>average_rating</th>\n",
       "      <th>label</th>\n",
       "      <th>length</th>\n",
       "      <th>reviews</th>\n",
       "    </tr>\n",
       "  </thead>\n",
       "  <tbody>\n",
       "    <tr>\n",
       "      <th>0</th>\n",
       "      <td>0</td>\n",
       "      <td>9759091062</td>\n",
       "      <td>[0, 0]</td>\n",
       "      <td>3</td>\n",
       "      <td>I bought this product to get rid of the dark s...</td>\n",
       "      <td>12 27, 2013</td>\n",
       "      <td>A30IP88QK3YUIO</td>\n",
       "      <td>Amina Bint Ibraheem</td>\n",
       "      <td>Its alright</td>\n",
       "      <td>1388102400</td>\n",
       "      <td>3.5</td>\n",
       "      <td>0</td>\n",
       "      <td>253</td>\n",
       "      <td>[bought, product, get, rid, dark, spots, face,...</td>\n",
       "    </tr>\n",
       "    <tr>\n",
       "      <th>1</th>\n",
       "      <td>1</td>\n",
       "      <td>9759091062</td>\n",
       "      <td>[0, 1]</td>\n",
       "      <td>5</td>\n",
       "      <td>I bought this product about 3 months ago, I fi...</td>\n",
       "      <td>01 23, 2014</td>\n",
       "      <td>A1EVGDOTGFZOSS</td>\n",
       "      <td>Jessica \"Anarchykisses\"</td>\n",
       "      <td>This works</td>\n",
       "      <td>1390435200</td>\n",
       "      <td>3.5</td>\n",
       "      <td>1</td>\n",
       "      <td>338</td>\n",
       "      <td>[bought, product, 3, months, ago, finished, tu...</td>\n",
       "    </tr>\n",
       "    <tr>\n",
       "      <th>2</th>\n",
       "      <td>2</td>\n",
       "      <td>9759091062</td>\n",
       "      <td>[0, 0]</td>\n",
       "      <td>1</td>\n",
       "      <td>This gell did nothing at all. I religiously pu...</td>\n",
       "      <td>01 11, 2014</td>\n",
       "      <td>AP5WTCMP6DTRV</td>\n",
       "      <td>Layla B</td>\n",
       "      <td>Does nothing</td>\n",
       "      <td>1389398400</td>\n",
       "      <td>3.5</td>\n",
       "      <td>0</td>\n",
       "      <td>121</td>\n",
       "      <td>[gell, nothing, religiously, put, specific, ar...</td>\n",
       "    </tr>\n",
       "    <tr>\n",
       "      <th>3</th>\n",
       "      <td>3</td>\n",
       "      <td>9759091062</td>\n",
       "      <td>[0, 1]</td>\n",
       "      <td>5</td>\n",
       "      <td>i got this to get rid of a scar and it did jus...</td>\n",
       "      <td>02 18, 2014</td>\n",
       "      <td>A21IM16PQWKVO5</td>\n",
       "      <td>mdub9922</td>\n",
       "      <td>it works</td>\n",
       "      <td>1392681600</td>\n",
       "      <td>3.5</td>\n",
       "      <td>1</td>\n",
       "      <td>207</td>\n",
       "      <td>[got, get, rid, scar, looking, remove, discolo...</td>\n",
       "    </tr>\n",
       "    <tr>\n",
       "      <th>4</th>\n",
       "      <td>6</td>\n",
       "      <td>9790790961</td>\n",
       "      <td>[0, 0]</td>\n",
       "      <td>5</td>\n",
       "      <td>Got this product and I never heard of this so ...</td>\n",
       "      <td>09 8, 2013</td>\n",
       "      <td>A3TYR1ALBZ2EU9</td>\n",
       "      <td>Mananagirl6</td>\n",
       "      <td>My new smell!</td>\n",
       "      <td>1378598400</td>\n",
       "      <td>4.0</td>\n",
       "      <td>1</td>\n",
       "      <td>284</td>\n",
       "      <td>[got, product, never, heard, took, chance, got...</td>\n",
       "    </tr>\n",
       "    <tr>\n",
       "      <th>...</th>\n",
       "      <td>...</td>\n",
       "      <td>...</td>\n",
       "      <td>...</td>\n",
       "      <td>...</td>\n",
       "      <td>...</td>\n",
       "      <td>...</td>\n",
       "      <td>...</td>\n",
       "      <td>...</td>\n",
       "      <td>...</td>\n",
       "      <td>...</td>\n",
       "      <td>...</td>\n",
       "      <td>...</td>\n",
       "      <td>...</td>\n",
       "      <td>...</td>\n",
       "    </tr>\n",
       "    <tr>\n",
       "      <th>35574</th>\n",
       "      <td>49989</td>\n",
       "      <td>B00L5KTZ0K</td>\n",
       "      <td>[0, 0]</td>\n",
       "      <td>5</td>\n",
       "      <td>I have been taking this for about a week and I...</td>\n",
       "      <td>07 22, 2014</td>\n",
       "      <td>A3JI7QRZO1QG8X</td>\n",
       "      <td>Joyce M. Davidson</td>\n",
       "      <td>It's been about a week so far</td>\n",
       "      <td>1405987200</td>\n",
       "      <td>5.0</td>\n",
       "      <td>1</td>\n",
       "      <td>222</td>\n",
       "      <td>[taking, week, feel, really, good, face, glowi...</td>\n",
       "    </tr>\n",
       "    <tr>\n",
       "      <th>35575</th>\n",
       "      <td>49994</td>\n",
       "      <td>B00L6Q3BH6</td>\n",
       "      <td>[5, 5]</td>\n",
       "      <td>3</td>\n",
       "      <td>Because of all the hype, I decided to try the ...</td>\n",
       "      <td>05 24, 2014</td>\n",
       "      <td>A1PIJ1IUG6S3SQ</td>\n",
       "      <td>christine</td>\n",
       "      <td>superb pigmentation and matte but extremely dr...</td>\n",
       "      <td>1400889600</td>\n",
       "      <td>4.0</td>\n",
       "      <td>0</td>\n",
       "      <td>1207</td>\n",
       "      <td>[hype, decided, try, velvetines, despite, best...</td>\n",
       "    </tr>\n",
       "    <tr>\n",
       "      <th>35576</th>\n",
       "      <td>49995</td>\n",
       "      <td>B00L6Q3BH6</td>\n",
       "      <td>[10, 10]</td>\n",
       "      <td>4</td>\n",
       "      <td>I feel like I could pierce a man's soul while ...</td>\n",
       "      <td>04 24, 2014</td>\n",
       "      <td>A12UT32YCU0WT0</td>\n",
       "      <td>Marie Esther</td>\n",
       "      <td>Such a beautiful color</td>\n",
       "      <td>1398297600</td>\n",
       "      <td>4.0</td>\n",
       "      <td>1</td>\n",
       "      <td>742</td>\n",
       "      <td>[feel, like, could, pierce, mans, soul, wearin...</td>\n",
       "    </tr>\n",
       "    <tr>\n",
       "      <th>35577</th>\n",
       "      <td>49997</td>\n",
       "      <td>B00LCEROA2</td>\n",
       "      <td>[0, 0]</td>\n",
       "      <td>5</td>\n",
       "      <td>I love to mix this rosehip oil with my other e...</td>\n",
       "      <td>07 12, 2014</td>\n",
       "      <td>A2W37S6VC464WK</td>\n",
       "      <td>Cameron</td>\n",
       "      <td>Love This!</td>\n",
       "      <td>1405123200</td>\n",
       "      <td>5.0</td>\n",
       "      <td>1</td>\n",
       "      <td>142</td>\n",
       "      <td>[love, mix, rosehip, oil, essential, oils, boo...</td>\n",
       "    </tr>\n",
       "    <tr>\n",
       "      <th>35578</th>\n",
       "      <td>49999</td>\n",
       "      <td>B00LLPT4HI</td>\n",
       "      <td>[0, 0]</td>\n",
       "      <td>5</td>\n",
       "      <td>I have very dry elbows and knees.  I have a to...</td>\n",
       "      <td>07 15, 2014</td>\n",
       "      <td>A3LGT6UZL99IW1</td>\n",
       "      <td>Richard C. Drew \"Anaal Nathra/Uthe vas Bethod...</td>\n",
       "      <td>This stuff is amazing!</td>\n",
       "      <td>1405382400</td>\n",
       "      <td>5.0</td>\n",
       "      <td>1</td>\n",
       "      <td>1505</td>\n",
       "      <td>[dry, elbows, knees, torn, tendon, left, foot,...</td>\n",
       "    </tr>\n",
       "  </tbody>\n",
       "</table>\n",
       "<p>35579 rows × 14 columns</p>\n",
       "</div>"
      ],
      "text/plain": [
       "       index        asin   helpful  overall  \\\n",
       "0          0  9759091062    [0, 0]        3   \n",
       "1          1  9759091062    [0, 1]        5   \n",
       "2          2  9759091062    [0, 0]        1   \n",
       "3          3  9759091062    [0, 1]        5   \n",
       "4          6  9790790961    [0, 0]        5   \n",
       "...      ...         ...       ...      ...   \n",
       "35574  49989  B00L5KTZ0K    [0, 0]        5   \n",
       "35575  49994  B00L6Q3BH6    [5, 5]        3   \n",
       "35576  49995  B00L6Q3BH6  [10, 10]        4   \n",
       "35577  49997  B00LCEROA2    [0, 0]        5   \n",
       "35578  49999  B00LLPT4HI    [0, 0]        5   \n",
       "\n",
       "                                              reviewText   reviewTime  \\\n",
       "0      I bought this product to get rid of the dark s...  12 27, 2013   \n",
       "1      I bought this product about 3 months ago, I fi...  01 23, 2014   \n",
       "2      This gell did nothing at all. I religiously pu...  01 11, 2014   \n",
       "3      i got this to get rid of a scar and it did jus...  02 18, 2014   \n",
       "4      Got this product and I never heard of this so ...   09 8, 2013   \n",
       "...                                                  ...          ...   \n",
       "35574  I have been taking this for about a week and I...  07 22, 2014   \n",
       "35575  Because of all the hype, I decided to try the ...  05 24, 2014   \n",
       "35576  I feel like I could pierce a man's soul while ...  04 24, 2014   \n",
       "35577  I love to mix this rosehip oil with my other e...  07 12, 2014   \n",
       "35578  I have very dry elbows and knees.  I have a to...  07 15, 2014   \n",
       "\n",
       "           reviewerID                                      reviewerName  \\\n",
       "0      A30IP88QK3YUIO                               Amina Bint Ibraheem   \n",
       "1      A1EVGDOTGFZOSS                           Jessica \"Anarchykisses\"   \n",
       "2       AP5WTCMP6DTRV                                           Layla B   \n",
       "3      A21IM16PQWKVO5                                          mdub9922   \n",
       "4      A3TYR1ALBZ2EU9                                       Mananagirl6   \n",
       "...               ...                                               ...   \n",
       "35574  A3JI7QRZO1QG8X                                 Joyce M. Davidson   \n",
       "35575  A1PIJ1IUG6S3SQ                                         christine   \n",
       "35576  A12UT32YCU0WT0                                      Marie Esther   \n",
       "35577  A2W37S6VC464WK                                           Cameron   \n",
       "35578  A3LGT6UZL99IW1  Richard C. Drew \"Anaal Nathra/Uthe vas Bethod...   \n",
       "\n",
       "                                                 summary  unixReviewTime  \\\n",
       "0                                            Its alright      1388102400   \n",
       "1                                             This works      1390435200   \n",
       "2                                           Does nothing      1389398400   \n",
       "3                                               it works      1392681600   \n",
       "4                                          My new smell!      1378598400   \n",
       "...                                                  ...             ...   \n",
       "35574                      It's been about a week so far      1405987200   \n",
       "35575  superb pigmentation and matte but extremely dr...      1400889600   \n",
       "35576                             Such a beautiful color      1398297600   \n",
       "35577                                         Love This!      1405123200   \n",
       "35578                             This stuff is amazing!      1405382400   \n",
       "\n",
       "       average_rating  label  length  \\\n",
       "0                 3.5      0     253   \n",
       "1                 3.5      1     338   \n",
       "2                 3.5      0     121   \n",
       "3                 3.5      1     207   \n",
       "4                 4.0      1     284   \n",
       "...               ...    ...     ...   \n",
       "35574             5.0      1     222   \n",
       "35575             4.0      0    1207   \n",
       "35576             4.0      1     742   \n",
       "35577             5.0      1     142   \n",
       "35578             5.0      1    1505   \n",
       "\n",
       "                                                 reviews  \n",
       "0      [bought, product, get, rid, dark, spots, face,...  \n",
       "1      [bought, product, 3, months, ago, finished, tu...  \n",
       "2      [gell, nothing, religiously, put, specific, ar...  \n",
       "3      [got, get, rid, scar, looking, remove, discolo...  \n",
       "4      [got, product, never, heard, took, chance, got...  \n",
       "...                                                  ...  \n",
       "35574  [taking, week, feel, really, good, face, glowi...  \n",
       "35575  [hype, decided, try, velvetines, despite, best...  \n",
       "35576  [feel, like, could, pierce, mans, soul, wearin...  \n",
       "35577  [love, mix, rosehip, oil, essential, oils, boo...  \n",
       "35578  [dry, elbows, knees, torn, tendon, left, foot,...  \n",
       "\n",
       "[35579 rows x 14 columns]"
      ]
     },
     "execution_count": 42,
     "metadata": {},
     "output_type": "execute_result"
    }
   ],
   "source": [
    "df_short.reset_index()"
   ]
  },
  {
   "cell_type": "markdown",
   "id": "solar-dynamics",
   "metadata": {},
   "source": [
    "### With CountVectorizer,\n",
    "we are converting raw text to a numerical vector representation of words and n-grams. This makes it easy to directly use this representation as features (signals) in Machine Learning tasks such as for text classification and clustering. With the TFID transformer, we invert the importance of words, depending on the frequency in all documents."
   ]
  },
  {
   "cell_type": "code",
   "execution_count": 31,
   "id": "jewish-universal",
   "metadata": {},
   "outputs": [],
   "source": [
    "X = df_short['reviews']\n",
    "y = df_short['overall']  "
   ]
  },
  {
   "cell_type": "code",
   "execution_count": 32,
   "id": "ethical-decimal",
   "metadata": {},
   "outputs": [],
   "source": [
    "vectorizer = CountVectorizer(max_features = 6000, ngram_range=(1,3))\n",
    "\n",
    "data_features = vectorizer.fit_transform(X)\n",
    "tfidf_transformer = TfidfTransformer()\n",
    "data_features_tfidf = tfidf_transformer.fit_transform(data_features)\n",
    "data_mat = data_features_tfidf.toarray()"
   ]
  },
  {
   "cell_type": "code",
   "execution_count": 33,
   "id": "refined-officer",
   "metadata": {},
   "outputs": [
    {
     "data": {
      "text/plain": [
       "array([0., 0., 0., ..., 0., 0., 0.])"
      ]
     },
     "execution_count": 33,
     "metadata": {},
     "output_type": "execute_result"
    }
   ],
   "source": [
    "ar=data_mat[4]\n",
    "ar"
   ]
  },
  {
   "cell_type": "code",
   "execution_count": 34,
   "id": "average-blackberry",
   "metadata": {},
   "outputs": [
    {
     "data": {
      "text/plain": [
       "'havent big fan prada fragranc year absolut fell love sweet candylik scent perfum smell like sweet decad caramel tone vanilla im sure els smell great although must say seller ask way high price bottl could get 27 oz bottl around price neiman marcu 17 oz around 80 prefer smaller bottl'"
      ]
     },
     "execution_count": 34,
     "metadata": {},
     "output_type": "execute_result"
    }
   ],
   "source": [
    "df_short.reviews[4]"
   ]
  },
  {
   "cell_type": "markdown",
   "id": "ahead-smile",
   "metadata": {},
   "source": [
    "### Data Splitting\n",
    "We use a 70/ 30 split, where we train on 70% of the entire dataset and test on 30%"
   ]
  },
  {
   "cell_type": "code",
   "execution_count": 35,
   "id": "diverse-belize",
   "metadata": {},
   "outputs": [],
   "source": [
    "X_train, X_test, y_train, y_test = train_test_split(data_mat, y,test_size=0.3,random_state=101)"
   ]
  },
  {
   "cell_type": "code",
   "execution_count": 36,
   "id": "electrical-finance",
   "metadata": {},
   "outputs": [
    {
     "name": "stdout",
     "output_type": "stream",
     "text": [
      "Training error:  0.0\n",
      "Test error:  0.0\n"
     ]
    }
   ],
   "source": [
    "from sklearn.linear_model import SGDClassifier\n",
    "\n",
    "clf = SGDClassifier(loss=\"log\", penalty=\"none\")\n",
    "clf.fit(X_train, y_train)\n",
    "## Pull out the parameters (w,b) of the logistic regression model\n",
    "w = clf.coef_[0,:]\n",
    "b = clf.intercept_\n",
    "## Get predictions on training and test data\n",
    "preds_train = clf.predict(X_train)\n",
    "preds_test = clf.predict(X_test)\n",
    "## Compute errors\n",
    "errs_train = np.sum((preds_train > 0.0) != (y_train > 0.0))\n",
    "errs_test = np.sum((preds_test > 0.0) != (y_test > 0.0))\n",
    "print(\"Training error: \", float(errs_train)/len(y_train))\n",
    "print(\"Test error: \", float(errs_test)/len(y_test))"
   ]
  },
  {
   "cell_type": "markdown",
   "id": "auburn-condition",
   "metadata": {},
   "source": [
    "### Evaluation\n",
    "Let' evaluate the logistic regression classifier and see which words are most important per class\n"
   ]
  },
  {
   "cell_type": "code",
   "execution_count": 37,
   "id": "industrial-register",
   "metadata": {},
   "outputs": [
    {
     "name": "stdout",
     "output_type": "stream",
     "text": [
      "[[ 344   99  121   94  156]\n",
      " [ 155  128  269  189  155]\n",
      " [  64  115  565  586  379]\n",
      " [  31   40  316 1321 1211]\n",
      " [  30   24  124  684 3474]]\n",
      "              precision    recall  f1-score   support\n",
      "\n",
      "           1       0.55      0.42      0.48       814\n",
      "           2       0.32      0.14      0.20       896\n",
      "           3       0.41      0.33      0.36      1709\n",
      "           4       0.46      0.45      0.46      2919\n",
      "           5       0.65      0.80      0.72      4336\n",
      "\n",
      "    accuracy                           0.55     10674\n",
      "   macro avg       0.48      0.43      0.44     10674\n",
      "weighted avg       0.52      0.55      0.53     10674\n",
      "\n"
     ]
    }
   ],
   "source": [
    "print(confusion_matrix(y_test,preds_test))\n",
    "print(classification_report(y_test,preds_test))"
   ]
  },
  {
   "cell_type": "code",
   "execution_count": 38,
   "id": "incomplete-window",
   "metadata": {},
   "outputs": [
    {
     "data": {
      "text/plain": [
       "array(['10', '10 day', '10 minut', ..., 'zipper', 'zit', 'zone'],\n",
       "      dtype='<U25')"
      ]
     },
     "execution_count": 38,
     "metadata": {},
     "output_type": "execute_result"
    }
   ],
   "source": [
    "## Convert vocabulary into a list to see the most important words\n",
    "vocab = np.array([x[0] for x in sorted(vectorizer.vocabulary_.items(), key=lambda x:x[1])])\n",
    "vocab"
   ]
  },
  {
   "cell_type": "code",
   "execution_count": 39,
   "id": "expressed-privacy",
   "metadata": {},
   "outputs": [
    {
     "data": {
      "text/plain": [
       "array([3056, 2091, 4741, ..., 4296, 5089, 2467])"
      ]
     },
     "execution_count": 39,
     "metadata": {},
     "output_type": "execute_result"
    }
   ],
   "source": [
    "inds = np.argsort(w)\n",
    "inds"
   ]
  },
  {
   "cell_type": "code",
   "execution_count": 40,
   "id": "possible-velvet",
   "metadata": {},
   "outputs": [
    {
     "name": "stdout",
     "output_type": "stream",
     "text": [
      "Highly positive words: \n",
      "['love', 'great', 'soft', 'nice', 'without', 'best', 'bit', 'quickli', 'easi', 'littl', 'price', 'though', 'perfect', 'one best', 'last', 'awesom', 'knot', 'havent', 'well', 'work great', 'help', 'great product', 'excel', 'wonder', 'job', 'need', 'work well', 'amaz', 'brush great', 'enjoy', 'alway', 'husband', 'okay', 'fine', 'everi', 'smooth', 'iron', 'night', 'today', 'heart', 'mirror', 'compliment', 'ive', 'silki', 'keep', 'appreci', 'beauti', 'goe', 'drop', 'happi']\n",
      "Highly negative words: \n",
      "['fail', 'mayb', 'rip', 'imposs', 'thigh', 'wish could', 'stop use', 'stick', 'left', 'cheap', 'formul', 'fell', 'put face', 'broke', 'skin tri', 'junk', 'tri use', 'poor', 'absolut', 'crap', 'dont buy', 'money', 'iti', 'refund', 'caus', 'advertis', 'liter', 'new product', 'one star', 'unfortun', 'useless', 'doesnt work', 'never', 'check', 'noth', 'good review', 'toss', 'disappoint', 'aw', 'gross', 'even', 'return', 'worst', 'threw', 'wast', 'garbag', 'runni', 'terribl']\n"
     ]
    }
   ],
   "source": [
    "inds = np.argsort(w)\n",
    "## Words with large positive values\n",
    "pos_inds = inds[0:50]\n",
    "print(\"Highly positive words: \")\n",
    "print([str(x) for x in list(vocab[pos_inds])])\n",
    "## Words with large negative values\n",
    "neg_inds = inds[-49:-1]\n",
    "print(\"Highly negative words: \")\n",
    "print([str(x) for x in list(vocab[neg_inds])])"
   ]
  },
  {
   "cell_type": "code",
   "execution_count": 44,
   "id": "inappropriate-evans",
   "metadata": {},
   "outputs": [],
   "source": [
    "stop_set = {'doesnt', 'review'}"
   ]
  },
  {
   "cell_type": "code",
   "execution_count": 45,
   "id": "indian-muslim",
   "metadata": {},
   "outputs": [
    {
     "data": {
      "image/png": "[encoded data removed]",
      "text/plain": [
       "<Figure size 432x288 with 1 Axes>"
      ]
     },
     "metadata": {
      "needs_background": "light"
     },
     "output_type": "display_data"
    }
   ],
   "source": [
    "from wordcloud import WordCloud\n",
    "wc = WordCloud(stopwords=stop_set, background_color=\"White\", colormap=\"ocean_r\",\n",
    "               max_font_size=150, random_state=42)\n",
    "#plt.rcParams['figure.figsize'] = [16, 6]\n",
    "wc.generate(\" \".join(list(vocab[neg_inds])))\n",
    "pyplot.imshow(wc, interpolation=\"bilinear\")\n",
    "pyplot.axis(\"off\")    \n",
    "pyplot.show()"
   ]
  },
  {
   "cell_type": "code",
   "execution_count": 46,
   "id": "supposed-billion",
   "metadata": {},
   "outputs": [
    {
     "data": {
      "image/png": "[encoded data removed]",
      "text/plain": [
       "<Figure size 432x288 with 1 Axes>"
      ]
     },
     "metadata": {
      "needs_background": "light"
     },
     "output_type": "display_data"
    }
   ],
   "source": [
    "from wordcloud import WordCloud\n",
    "wc = WordCloud(stopwords=stop_set, background_color=\"White\", colormap=\"ocean_r\",\n",
    "               max_font_size=150, random_state=42)\n",
    "#plt.rcParams['figure.figsize'] = [16, 6]\n",
    "wc.generate(\" \".join(list(vocab[pos_inds])))\n",
    "pyplot.imshow(wc, interpolation=\"bilinear\")\n",
    "pyplot.axis(\"off\")    \n",
    "pyplot.show()"
   ]
  },
  {
   "cell_type": "markdown",
   "id": "cultural-syndicate",
   "metadata": {},
   "source": [
    "### Classifier with two classes\n",
    "Let' use only two classes instead, positive and negative"
   ]
  },
  {
   "cell_type": "code",
   "execution_count": 48,
   "id": "returning-bosnia",
   "metadata": {},
   "outputs": [],
   "source": [
    "X = df_short['reviews']\n",
    "y = df_short['label']  "
   ]
  },
  {
   "cell_type": "code",
   "execution_count": 49,
   "id": "living-cable",
   "metadata": {},
   "outputs": [],
   "source": [
    "X_train, X_test, y_train, y_test = train_test_split(data_mat, y,test_size=0.3,random_state=101)"
   ]
  },
  {
   "cell_type": "code",
   "execution_count": 50,
   "id": "tender-pantyhose",
   "metadata": {},
   "outputs": [
    {
     "name": "stdout",
     "output_type": "stream",
     "text": [
      "Training error:  0.13001405340293115\n",
      "Test error:  0.18933857972643808\n"
     ]
    }
   ],
   "source": [
    "from sklearn.linear_model import SGDClassifier\n",
    "\n",
    "clf = SGDClassifier(loss=\"log\", penalty=\"none\")\n",
    "clf.fit(X_train, y_train)\n",
    "## Pull out the parameters (w,b) of the logistic regression model\n",
    "w = clf.coef_[0,:]\n",
    "b = clf.intercept_\n",
    "## Get predictions on training and test data\n",
    "preds_train = clf.predict(X_train)\n",
    "preds_test = clf.predict(X_test)\n",
    "## Compute errors\n",
    "errs_train = np.sum((preds_train > 0.0) != (y_train > 0.0))\n",
    "errs_test = np.sum((preds_test > 0.0) != (y_test > 0.0))\n",
    "print(\"Training error: \", float(errs_train)/len(y_train))\n",
    "print(\"Test error: \", float(errs_test)/len(y_test))"
   ]
  },
  {
   "cell_type": "code",
   "execution_count": 51,
   "id": "defined-education",
   "metadata": {},
   "outputs": [
    {
     "name": "stdout",
     "output_type": "stream",
     "text": [
      "[[2362 1057]\n",
      " [ 964 6291]]\n",
      "              precision    recall  f1-score   support\n",
      "\n",
      "           0       0.71      0.69      0.70      3419\n",
      "           1       0.86      0.87      0.86      7255\n",
      "\n",
      "    accuracy                           0.81     10674\n",
      "   macro avg       0.78      0.78      0.78     10674\n",
      "weighted avg       0.81      0.81      0.81     10674\n",
      "\n"
     ]
    }
   ],
   "source": [
    "print(confusion_matrix(y_test,preds_test))\n",
    "print(classification_report(y_test,preds_test))"
   ]
  },
  {
   "cell_type": "code",
   "execution_count": 211,
   "id": "prostate-evolution",
   "metadata": {},
   "outputs": [
    {
     "name": "stdout",
     "output_type": "stream",
     "text": [
      "No Skill: ROC AUC=0.500\n",
      "Logistic: ROC AUC=0.865\n"
     ]
    },
    {
     "data": {
      "image/png": "[encoded data removed]",
      "text/plain": [
       "<Figure size 432x288 with 1 Axes>"
      ]
     },
     "metadata": {
      "needs_background": "light"
     },
     "output_type": "display_data"
    }
   ],
   "source": [
    "# generate a no skill prediction (majority class)\n",
    "ns_probs = [0 for _ in range(len(y_test))]\n",
    "lr_probs = clf.predict_proba(X_test)\n",
    "# keep probabilities for the positive outcome only\n",
    "lr_probs = lr_probs[:, 1]\n",
    "# calculate scores\n",
    "ns_auc = roc_auc_score(y_test, ns_probs)\n",
    "lr_auc = roc_auc_score(y_test, lr_probs)\n",
    "# summarize scores\n",
    "print('No Skill: ROC AUC=%.3f' % (ns_auc))\n",
    "print('Logistic: ROC AUC=%.3f' % (lr_auc))\n",
    "# calculate roc curves\n",
    "ns_fpr, ns_tpr, _ = roc_curve(y_test, ns_probs)\n",
    "lr_fpr, lr_tpr, _ = roc_curve(y_test, lr_probs)\n",
    "# plot the roc curve for the model\n",
    "pyplot.plot(ns_fpr, ns_tpr, linestyle='--', label='Base')\n",
    "pyplot.plot(lr_fpr, lr_tpr, marker='.', label='Model')\n",
    "# axis labels\n",
    "pyplot.xlabel('False Positive Rate')\n",
    "pyplot.ylabel('True Positive Rate')\n",
    "# show the legend\n",
    "pyplot.legend()\n",
    "# show the plot\n",
    "pyplot.show()"
   ]
  },
  {
   "cell_type": "code",
   "execution_count": 212,
   "id": "educational-welsh",
   "metadata": {},
   "outputs": [
    {
     "name": "stdout",
     "output_type": "stream",
     "text": [
      "Model: f1=0.864 auc=0.927\n"
     ]
    },
    {
     "data": {
      "image/png": "[encoded data removed]",
      "text/plain": [
       "<Figure size 432x288 with 1 Axes>"
      ]
     },
     "metadata": {
      "needs_background": "light"
     },
     "output_type": "display_data"
    }
   ],
   "source": [
    "# precision-recall curve and f1\n",
    "lr_precision, lr_recall, _ = precision_recall_curve(y_test, lr_probs)\n",
    "lr_f1, lr_auc = f1_score(y_test, preds_test), auc(lr_recall, lr_precision)\n",
    "# summarize scores\n",
    "print('Model: f1=%.3f auc=%.3f' % (lr_f1, lr_auc))\n",
    "# plot the precision-recall curves\n",
    "no_skill = len(y_test[y_test==1]) / len(y_test)\n",
    "pyplot.plot([0, 1], [no_skill, no_skill], linestyle='--', label='Base')\n",
    "pyplot.plot(lr_recall, lr_precision, marker='.', label='Model')\n",
    "# axis labels\n",
    "pyplot.xlabel('Recall')\n",
    "pyplot.ylabel('Precision')\n",
    "# show the legend\n",
    "pyplot.legend()\n",
    "# show the plot\n",
    "pyplot.show()"
   ]
  },
  {
   "cell_type": "markdown",
   "id": "proof-penguin",
   "metadata": {},
   "source": [
    "### Neural Network with two labels only"
   ]
  },
  {
   "cell_type": "code",
   "execution_count": 46,
   "id": "dramatic-myrtle",
   "metadata": {},
   "outputs": [],
   "source": [
    "y = df_short['label']\n",
    "X = df_short['reviews']"
   ]
  },
  {
   "cell_type": "code",
   "execution_count": 47,
   "id": "posted-dragon",
   "metadata": {},
   "outputs": [],
   "source": [
    "max_review_length = 200\n",
    "\n",
    "tokenizer = Tokenizer(num_words= 10000,  #max no. of unique words to keep\n",
    "                      #filters='!\"#$%&()*+,-./:;<=>?@[\\]^_`{|}~', \n",
    "                      lower=True) #convert to lower case)\n",
    "\n",
    "#n_grams\n",
    "tokenizer.fit_on_texts(X)\n",
    "words_to_index = tokenizer.word_index"
   ]
  },
  {
   "cell_type": "code",
   "execution_count": 48,
   "id": "original-success",
   "metadata": {},
   "outputs": [
    {
     "name": "stdout",
     "output_type": "stream",
     "text": [
      "Shape of data tensor: (35579, 200)\n"
     ]
    }
   ],
   "source": [
    "X = tokenizer.texts_to_sequences(X)\n",
    "X = sequence.pad_sequences(X, maxlen= max_review_length)\n",
    "print('Shape of data tensor:', X.shape)"
   ]
  },
  {
   "cell_type": "code",
   "execution_count": 49,
   "id": "brief-avenue",
   "metadata": {},
   "outputs": [
    {
     "data": {
      "text/plain": [
       "array([[1, 0],\n",
       "       [0, 1],\n",
       "       [1, 0],\n",
       "       ...,\n",
       "       [0, 1],\n",
       "       [0, 1],\n",
       "       [0, 1]], dtype=uint8)"
      ]
     },
     "execution_count": 49,
     "metadata": {},
     "output_type": "execute_result"
    }
   ],
   "source": [
    "Y=pd.get_dummies(y).values\n",
    "Y"
   ]
  },
  {
   "cell_type": "code",
   "execution_count": 56,
   "id": "adult-antigua",
   "metadata": {},
   "outputs": [],
   "source": [
    "X_train, X_test, y_train, y_test = train_test_split(X, y,test_size=0.3,random_state=101)"
   ]
  },
  {
   "cell_type": "code",
   "execution_count": 59,
   "id": "independent-nothing",
   "metadata": {},
   "outputs": [],
   "source": [
    "from keras.utils import to_categorical\n",
    "y_train = to_categorical(y_train)"
   ]
  },
  {
   "cell_type": "code",
   "execution_count": 60,
   "id": "outside-shepherd",
   "metadata": {},
   "outputs": [],
   "source": [
    "from keras.utils import to_categorical\n",
    "y_test = to_categorical(y_test)"
   ]
  },
  {
   "cell_type": "code",
   "execution_count": 53,
   "id": "surgical-retro",
   "metadata": {},
   "outputs": [],
   "source": [
    "#!pip install tornado==6.1.0\n",
    "#!pip install pandas==1.1.0\n",
    "#!pip install -U ipython==7.20"
   ]
  },
  {
   "cell_type": "code",
   "execution_count": 63,
   "id": "about-level",
   "metadata": {},
   "outputs": [
    {
     "name": "stdout",
     "output_type": "stream",
     "text": [
      "Model: \"sequential_3\"\n",
      "_________________________________________________________________\n",
      "Layer (type)                 Output Shape              Param #   \n",
      "=================================================================\n",
      "embedding_3 (Embedding)      (None, 200, 200)          2000000   \n",
      "_________________________________________________________________\n",
      "spatial_dropout1d_3 (Spatial (None, 200, 200)          0         \n",
      "_________________________________________________________________\n",
      "lstm_6 (LSTM)                (None, 200, 250)          451000    \n",
      "_________________________________________________________________\n",
      "lstm_7 (LSTM)                (None, 100)               140400    \n",
      "_________________________________________________________________\n",
      "dense_3 (Dense)              (None, 2)                 202       \n",
      "=================================================================\n",
      "Total params: 2,591,602\n",
      "Trainable params: 2,591,602\n",
      "Non-trainable params: 0\n",
      "_________________________________________________________________\n",
      "None\n"
     ]
    }
   ],
   "source": [
    "EMBEDDING_DIM = 200\n",
    "model = Sequential()\n",
    "model.add(Embedding(10000, EMBEDDING_DIM, input_length = X.shape[1]))\n",
    "model.add(SpatialDropout1D(0.2))\n",
    "model.add(LSTM(250, dropout=0.2,return_sequences=True))\n",
    "model.add(LSTM(100, dropout=0.2, recurrent_dropout=0.2))\n",
    "model.add(Dense(2, activation='softmax'))\n",
    "model.compile(loss='categorical_crossentropy', optimizer='adam', metrics=['accuracy'])\n",
    "print(model.summary())"
   ]
  },
  {
   "cell_type": "code",
   "execution_count": 155,
   "id": "consolidated-blues",
   "metadata": {},
   "outputs": [],
   "source": [
    "#import tensorflow as tf"
   ]
  },
  {
   "cell_type": "code",
   "execution_count": 142,
   "id": "cultural-beijing",
   "metadata": {},
   "outputs": [],
   "source": [
    "gpus = tf.config.experimental.list_physical_devices('GPU')\n",
    "if gpus:\n",
    "    try:\n",
    "        # Restrict TensorFlow to only use the fourth GPU\n",
    "        tf.config.experimental.set_visible_devices(gpus[0], 'GPU')\n",
    "\n",
    "        # Currently, memory growth needs to be the same across GPUs\n",
    "        for gpu in gpus:\n",
    "            tf.config.experimental.set_memory_growth(gpu, True)\n",
    "        logical_gpus = tf.config.experimental.list_logical_devices('GPU')\n",
    "        print(len(gpus), \"Physical GPUs,\", len(logical_gpus), \"Logical GPUs\")\n",
    "    except RuntimeError as e:\n",
    "        # Memory growth must be set before GPUs have been initialized\n",
    "        print(e)"
   ]
  },
  {
   "cell_type": "code",
   "execution_count": 144,
   "id": "defensive-ancient",
   "metadata": {},
   "outputs": [],
   "source": [
    "if tf.config.experimental.list_physical_devices('GPU'):\n",
    "    physical_devices = tf.config.experimental.list_physical_devices('GPU')('GPU')\n",
    "    tf.config.experimental.set_memory_growth(physical_devices[0], enable=True)\n",
    "    tf.config.experimental.set_virtual_device_configuration(physical_devices[0], [tf.config.experimental.VirtualDeviceConfiguration(memory_limit=4000)])"
   ]
  },
  {
   "cell_type": "code",
   "execution_count": 64,
   "id": "advisory-bosnia",
   "metadata": {},
   "outputs": [
    {
     "name": "stdout",
     "output_type": "stream",
     "text": [
      "Epoch 1/4\n",
      "561/561 [==============================] - 336s 592ms/step - loss: 0.5230 - accuracy: 0.7493 - val_loss: 0.4129 - val_accuracy: 0.8226\n",
      "Epoch 2/4\n",
      "561/561 [==============================] - 314s 559ms/step - loss: 0.3491 - accuracy: 0.8529 - val_loss: 0.4134 - val_accuracy: 0.8105\n",
      "Epoch 3/4\n",
      "561/561 [==============================] - 309s 551ms/step - loss: 0.2737 - accuracy: 0.8903 - val_loss: 0.4417 - val_accuracy: 0.8029\n",
      "Epoch 4/4\n",
      "561/561 [==============================] - 316s 564ms/step - loss: 0.2184 - accuracy: 0.9167 - val_loss: 0.4660 - val_accuracy: 0.8033\n"
     ]
    },
    {
     "data": {
      "text/plain": [
       "<tensorflow.python.keras.callbacks.History at 0x7ff435021d10>"
      ]
     },
     "execution_count": 64,
     "metadata": {},
     "output_type": "execute_result"
    }
   ],
   "source": [
    "epochs = 4\n",
    "batch_size = 40\n",
    "model.fit(X_train, y_train, \n",
    "          epochs=epochs, \n",
    "          batch_size=batch_size,\n",
    "          validation_split=0.1)"
   ]
  },
  {
   "cell_type": "code",
   "execution_count": 65,
   "id": "foster-niger",
   "metadata": {},
   "outputs": [
    {
     "name": "stdout",
     "output_type": "stream",
     "text": [
      "267/267 - 36s - loss: 0.4864 - accuracy: 0.7883\n",
      "loss: 0.4864031970500946\n",
      "Validation accuracy: 0.7882705926895142\n"
     ]
    }
   ],
   "source": [
    "loss, acc = model.evaluate(X_test, y_test, verbose=2,\n",
    "                            batch_size=batch_size)\n",
    "print(f\"loss: {loss}\")\n",
    "print(f\"Validation accuracy: {acc}\")"
   ]
  },
  {
   "cell_type": "markdown",
   "id": "transparent-italic",
   "metadata": {},
   "source": [
    "### Pretrained word embeddings word2vec\n",
    "Word2Vec is a more recent model that embeds words in a lower-dimensional vector space using a shallow neural network. The result is a set of word-vectors where vectors close together in vector space have similar meanings based on context, and word-vectors distant to each other have differing meanings. For example, strong and powerful would be close together and strong and Paris would be relatively far.\n"
   ]
  },
  {
   "cell_type": "code",
   "execution_count": 66,
   "id": "cleared-religious",
   "metadata": {},
   "outputs": [],
   "source": [
    "def read_glove_vector(glove_vec):\n",
    "    with open(glove_vec, 'r', encoding='UTF-8') as f:\n",
    "        words = set()\n",
    "        word_to_vec_map = {}\n",
    "        for line in f:\n",
    "            w_line = line.split()\n",
    "            curr_word = w_line[0]\n",
    "            word_to_vec_map[curr_word] = np.array(w_line[1:], dtype=np.float64)\n",
    "\n",
    "    return word_to_vec_map"
   ]
  },
  {
   "cell_type": "code",
   "execution_count": 67,
   "id": "divided-myrtle",
   "metadata": {},
   "outputs": [],
   "source": [
    "#load the whole embedding into memory\n",
    "word_to_vec_map = read_glove_vector('glove.6B.100d.txt')\n",
    "\n",
    "maxLen = 200"
   ]
  },
  {
   "cell_type": "code",
   "execution_count": 68,
   "id": "incoming-silly",
   "metadata": {},
   "outputs": [],
   "source": [
    "vocab_len = len(words_to_index)\n",
    "embed_vector_len = word_to_vec_map['moon'].shape[0]\n",
    "\n",
    "emb_matrix = np.zeros((vocab_len, embed_vector_len))\n",
    "\n",
    "for word, index in words_to_index.items():\n",
    "    embedding_vector = word_to_vec_map.get(word)\n",
    "    if embedding_vector is not None:\n",
    "        emb_matrix[index, :] = embedding_vector\n",
    "\n",
    "embedding_layer = Embedding(input_dim=vocab_len, output_dim=embed_vector_len, input_length=maxLen, weights = [emb_matrix], trainable=False)"
   ]
  },
  {
   "cell_type": "code",
   "execution_count": 117,
   "id": "affiliated-vegetarian",
   "metadata": {},
   "outputs": [
    {
     "name": "stdout",
     "output_type": "stream",
     "text": [
      "Model: \"sequential_7\"\n",
      "_________________________________________________________________\n",
      "Layer (type)                 Output Shape              Param #   \n",
      "=================================================================\n",
      "embedding_4 (Embedding)      (None, 200, 100)          5165700   \n",
      "_________________________________________________________________\n",
      "spatial_dropout1d_3 (Spatial (None, 200, 100)          0         \n",
      "_________________________________________________________________\n",
      "lstm_5 (LSTM)                (None, 200, 250)          351000    \n",
      "_________________________________________________________________\n",
      "lstm_6 (LSTM)                (None, 100)               140400    \n",
      "_________________________________________________________________\n",
      "dense_3 (Dense)              (None, 2)                 202       \n",
      "=================================================================\n",
      "Total params: 5,657,302\n",
      "Trainable params: 491,602\n",
      "Non-trainable params: 5,165,700\n",
      "_________________________________________________________________\n",
      "None\n"
     ]
    }
   ],
   "source": [
    "model2 = Sequential()\n",
    "model2.add(embedding_layer)\n",
    "model2.add(SpatialDropout1D(0.2))\n",
    "model2.add(LSTM(250, dropout=0.2,return_sequences=True))\n",
    "model2.add(LSTM(100, dropout=0.2, recurrent_dropout=0.2))\n",
    "model2.add(Dense(2, activation='softmax'))\n",
    "model2.compile(loss='categorical_crossentropy', optimizer='adam', metrics=['accuracy'])\n",
    "print(model2.summary())"
   ]
  },
  {
   "cell_type": "code",
   "execution_count": 118,
   "id": "higher-classroom",
   "metadata": {},
   "outputs": [
    {
     "name": "stdout",
     "output_type": "stream",
     "text": [
      "Train on 22414 samples, validate on 2491 samples\n",
      "Epoch 1/4\n",
      "22414/22414 [==============================] - 860s 38ms/step - loss: 0.5916 - accuracy: 0.6968 - val_loss: 0.5658 - val_accuracy: 0.7029\n",
      "Epoch 2/4\n",
      "22414/22414 [==============================] - 842s 38ms/step - loss: 0.5488 - accuracy: 0.7197 - val_loss: 0.5315 - val_accuracy: 0.7338\n",
      "Epoch 3/4\n",
      "22414/22414 [==============================] - 927s 41ms/step - loss: 0.5246 - accuracy: 0.7369 - val_loss: 0.5661 - val_accuracy: 0.7118\n",
      "Epoch 4/4\n",
      "22414/22414 [==============================] - 842s 38ms/step - loss: 0.5177 - accuracy: 0.7428 - val_loss: 0.4989 - val_accuracy: 0.7539\n"
     ]
    },
    {
     "data": {
      "text/plain": [
       "<keras.callbacks.callbacks.History at 0x7fe351d94b90>"
      ]
     },
     "execution_count": 118,
     "metadata": {},
     "output_type": "execute_result"
    }
   ],
   "source": [
    "epochs = 4\n",
    "batch_size = 40\n",
    "model2.fit(X_train, y_train, \n",
    "          epochs=epochs, \n",
    "          batch_size=batch_size,\n",
    "          validation_split=0.1)"
   ]
  },
  {
   "cell_type": "code",
   "execution_count": 119,
   "id": "connected-preference",
   "metadata": {},
   "outputs": [
    {
     "name": "stdout",
     "output_type": "stream",
     "text": [
      "loss: 0.48660132759672126\n",
      "Validation accuracy: 0.7653176188468933\n"
     ]
    }
   ],
   "source": [
    "loss, acc = model2.evaluate(X_test, y_test, verbose=2,\n",
    "                            batch_size=batch_size)\n",
    "print(f\"loss: {loss}\")\n",
    "print(f\"Validation accuracy: {acc}\")"
   ]
  },
  {
   "cell_type": "markdown",
   "id": "colored-crawford",
   "metadata": {},
   "source": [
    "### Pretrained word embeddings not stemmatized"
   ]
  },
  {
   "cell_type": "code",
   "execution_count": 69,
   "id": "irish-symphony",
   "metadata": {},
   "outputs": [
    {
     "name": "stdout",
     "output_type": "stream",
     "text": [
      "Model: \"sequential_4\"\n",
      "_________________________________________________________________\n",
      "Layer (type)                 Output Shape              Param #   \n",
      "=================================================================\n",
      "embedding_4 (Embedding)      (None, 200, 100)          6230900   \n",
      "_________________________________________________________________\n",
      "spatial_dropout1d_4 (Spatial (None, 200, 100)          0         \n",
      "_________________________________________________________________\n",
      "lstm_8 (LSTM)                (None, 200, 250)          351000    \n",
      "_________________________________________________________________\n",
      "lstm_9 (LSTM)                (None, 100)               140400    \n",
      "_________________________________________________________________\n",
      "dense_4 (Dense)              (None, 2)                 202       \n",
      "=================================================================\n",
      "Total params: 6,722,502\n",
      "Trainable params: 491,602\n",
      "Non-trainable params: 6,230,900\n",
      "_________________________________________________________________\n",
      "None\n"
     ]
    }
   ],
   "source": [
    "model3 = Sequential()\n",
    "model3.add(embedding_layer)\n",
    "model3.add(SpatialDropout1D(0.2))\n",
    "model3.add(LSTM(250, dropout=0.2,return_sequences=True))\n",
    "model3.add(LSTM(100, dropout=0.2, recurrent_dropout=0.2))\n",
    "model3.add(Dense(2, activation='softmax'))\n",
    "model3.compile(loss='categorical_crossentropy', optimizer='adam', metrics=['accuracy'])\n",
    "print(model3.summary())"
   ]
  },
  {
   "cell_type": "code",
   "execution_count": 70,
   "id": "governmental-baker",
   "metadata": {},
   "outputs": [
    {
     "name": "stdout",
     "output_type": "stream",
     "text": [
      "Epoch 1/6\n",
      "561/561 [==============================] - 281s 494ms/step - loss: 0.5928 - accuracy: 0.6880 - val_loss: 0.5351 - val_accuracy: 0.7090\n",
      "Epoch 2/6\n",
      "561/561 [==============================] - 273s 487ms/step - loss: 0.5208 - accuracy: 0.7400 - val_loss: 0.4859 - val_accuracy: 0.7768\n",
      "Epoch 3/6\n",
      "561/561 [==============================] - 265s 472ms/step - loss: 0.4915 - accuracy: 0.7590 - val_loss: 0.4651 - val_accuracy: 0.7716\n",
      "Epoch 4/6\n",
      "561/561 [==============================] - 276s 493ms/step - loss: 0.4719 - accuracy: 0.7713 - val_loss: 0.4611 - val_accuracy: 0.7808\n",
      "Epoch 5/6\n",
      "561/561 [==============================] - 266s 474ms/step - loss: 0.4610 - accuracy: 0.7796 - val_loss: 0.4633 - val_accuracy: 0.7860\n",
      "Epoch 6/6\n",
      "561/561 [==============================] - 270s 482ms/step - loss: 0.4452 - accuracy: 0.7929 - val_loss: 0.4471 - val_accuracy: 0.7937\n"
     ]
    },
    {
     "data": {
      "text/plain": [
       "<tensorflow.python.keras.callbacks.History at 0x7ff430a3b390>"
      ]
     },
     "execution_count": 70,
     "metadata": {},
     "output_type": "execute_result"
    }
   ],
   "source": [
    "epochs = 6\n",
    "batch_size = 40\n",
    "model3.fit(X_train, y_train, \n",
    "          epochs=epochs, \n",
    "          batch_size=batch_size,\n",
    "          validation_split=0.1)"
   ]
  },
  {
   "cell_type": "code",
   "execution_count": 71,
   "id": "republican-header",
   "metadata": {},
   "outputs": [
    {
     "name": "stdout",
     "output_type": "stream",
     "text": [
      "267/267 - 30s - loss: 0.4447 - accuracy: 0.7929\n",
      "loss: 0.44467347860336304\n",
      "Validation accuracy: 0.7928611636161804\n"
     ]
    }
   ],
   "source": [
    "loss, acc = model3.evaluate(X_test, y_test, verbose=2,\n",
    "                            batch_size=batch_size)\n",
    "print(f\"loss: {loss}\")\n",
    "print(f\"Validation accuracy: {acc}\")"
   ]
  },
  {
   "cell_type": "markdown",
   "id": "polar-geology",
   "metadata": {},
   "source": [
    "### Model tuning"
   ]
  },
  {
   "cell_type": "code",
   "execution_count": 72,
   "id": "copyrighted-simple",
   "metadata": {},
   "outputs": [],
   "source": [
    "from sklearn.utils import class_weight"
   ]
  },
  {
   "cell_type": "code",
   "execution_count": 102,
   "id": "union-christian",
   "metadata": {},
   "outputs": [],
   "source": [
    "y = df_short['label']\n",
    "X = df_short['reviews']"
   ]
  },
  {
   "cell_type": "code",
   "execution_count": 103,
   "id": "obvious-restoration",
   "metadata": {},
   "outputs": [],
   "source": [
    "max_review_length = 1000\n",
    "\n",
    "tokenizer = Tokenizer(num_words= 10000,  #max no. of unique words to keep\n",
    "                      #filters='!\"#$%&()*+,-./:;<=>?@[\\]^_`{|}~', \n",
    "                      lower=True) #convert to lower case)\n",
    "\n",
    "tokenizer.fit_on_texts(X)\n",
    "words_to_index = tokenizer.word_index"
   ]
  },
  {
   "cell_type": "code",
   "execution_count": 82,
   "id": "soviet-square",
   "metadata": {},
   "outputs": [],
   "source": [
    "word_to_vec_map = read_glove_vector('glove.6B.100d.txt')\n",
    "\n",
    "max_review_length = 1000"
   ]
  },
  {
   "cell_type": "code",
   "execution_count": 104,
   "id": "eight-child",
   "metadata": {},
   "outputs": [
    {
     "name": "stdout",
     "output_type": "stream",
     "text": [
      "Shape of data tensor: (35579, 1000)\n"
     ]
    }
   ],
   "source": [
    "X = tokenizer.texts_to_sequences(X)\n",
    "X = sequence.pad_sequences(X, maxlen= max_review_length)\n",
    "print('Shape of data tensor:', X.shape)"
   ]
  },
  {
   "cell_type": "code",
   "execution_count": 84,
   "id": "otherwise-joshua",
   "metadata": {},
   "outputs": [],
   "source": [
    "vocab_len = len(words_to_index)\n",
    "embed_vector_len = word_to_vec_map['moon'].shape[0]\n",
    "\n",
    "emb_matrix = np.zeros((vocab_len, embed_vector_len))\n",
    "\n",
    "for word, index in words_to_index.items():\n",
    "    embedding_vector = word_to_vec_map.get(word)\n",
    "    if embedding_vector is not None:\n",
    "        emb_matrix[index, :] = embedding_vector\n",
    "\n",
    "embedding_layer = Embedding(input_dim=vocab_len, output_dim=embed_vector_len, input_length=max_review_length, weights = [emb_matrix], trainable=False)"
   ]
  },
  {
   "cell_type": "code",
   "execution_count": 105,
   "id": "invalid-witness",
   "metadata": {},
   "outputs": [
    {
     "data": {
      "text/plain": [
       "array([[1, 0],\n",
       "       [0, 1],\n",
       "       [1, 0],\n",
       "       ...,\n",
       "       [0, 1],\n",
       "       [0, 1],\n",
       "       [0, 1]], dtype=uint8)"
      ]
     },
     "execution_count": 105,
     "metadata": {},
     "output_type": "execute_result"
    }
   ],
   "source": [
    "Y=pd.get_dummies(y).values\n",
    "Y"
   ]
  },
  {
   "cell_type": "code",
   "execution_count": 106,
   "id": "integral-house",
   "metadata": {},
   "outputs": [],
   "source": [
    "X_train, X_test, y_train, y_test = train_test_split(X, y,test_size=0.3,random_state=101)"
   ]
  },
  {
   "cell_type": "code",
   "execution_count": 95,
   "id": "cultural-hobby",
   "metadata": {},
   "outputs": [
    {
     "ename": "AttributeError",
     "evalue": "'numpy.ndarray' object has no attribute 'compute_class_weight'",
     "output_type": "error",
     "traceback": [
      "\u001b[0;31m---------------------------------------------------------------------------\u001b[0m",
      "\u001b[0;31mAttributeError\u001b[0m                            Traceback (most recent call last)",
      "\u001b[0;32m<ipython-input-95-ec35590456bc>\u001b[0m in \u001b[0;36m<module>\u001b[0;34m\u001b[0m\n\u001b[0;32m----> 1\u001b[0;31m \u001b[0mclass_weight\u001b[0m \u001b[0;34m=\u001b[0m \u001b[0mclass_weight\u001b[0m\u001b[0;34m.\u001b[0m\u001b[0mcompute_class_weight\u001b[0m\u001b[0;34m(\u001b[0m\u001b[0;34m'balanced'\u001b[0m\u001b[0;34m,\u001b[0m \u001b[0mnp\u001b[0m\u001b[0;34m.\u001b[0m\u001b[0munique\u001b[0m\u001b[0;34m(\u001b[0m\u001b[0my_train\u001b[0m\u001b[0;34m)\u001b[0m\u001b[0;34m,\u001b[0m \u001b[0mX_train\u001b[0m\u001b[0;34m)\u001b[0m\u001b[0;34m\u001b[0m\u001b[0;34m\u001b[0m\u001b[0m\n\u001b[0m",
      "\u001b[0;31mAttributeError\u001b[0m: 'numpy.ndarray' object has no attribute 'compute_class_weight'"
     ]
    }
   ],
   "source": [
    "#class_weight = class_weight = {0: 1., 1: 50., 2: 2.}"
   ]
  },
  {
   "cell_type": "code",
   "execution_count": 107,
   "id": "immediate-going",
   "metadata": {},
   "outputs": [],
   "source": [
    "from keras.utils import to_categorical\n",
    "y_train = to_categorical(y_train)\n",
    "\n",
    "from keras.utils import to_categorical\n",
    "y_test = to_categorical(y_test)"
   ]
  },
  {
   "cell_type": "code",
   "execution_count": 109,
   "id": "naval-elephant",
   "metadata": {},
   "outputs": [
    {
     "name": "stdout",
     "output_type": "stream",
     "text": [
      "Model: \"sequential_9\"\n",
      "_________________________________________________________________\n",
      "Layer (type)                 Output Shape              Param #   \n",
      "=================================================================\n",
      "embedding_9 (Embedding)      (None, 1000, 1000)        10000000  \n",
      "_________________________________________________________________\n",
      "spatial_dropout1d_9 (Spatial (None, 1000, 1000)        0         \n",
      "_________________________________________________________________\n",
      "lstm_18 (LSTM)               (None, 1000, 250)         1251000   \n",
      "_________________________________________________________________\n",
      "lstm_19 (LSTM)               (None, 100)               140400    \n",
      "_________________________________________________________________\n",
      "dense_9 (Dense)              (None, 2)                 202       \n",
      "=================================================================\n",
      "Total params: 11,391,602\n",
      "Trainable params: 11,391,602\n",
      "Non-trainable params: 0\n",
      "_________________________________________________________________\n",
      "None\n"
     ]
    }
   ],
   "source": [
    "EMBEDDING_DIM = 1000\n",
    "model4 = Sequential()\n",
    "model4.add(Embedding(10000, EMBEDDING_DIM, input_length = X.shape[1]))\n",
    "model4.add(SpatialDropout1D(0.2))\n",
    "model4.add(LSTM(250, dropout=0.2,return_sequences=True))\n",
    "model4.add(LSTM(100, dropout=0.2, recurrent_dropout=0.2))\n",
    "model4.add(Dense(2, activation='softmax'))\n",
    "model4.compile(loss='categorical_crossentropy', optimizer='adam', metrics=['accuracy'])\n",
    "print(model4.summary())"
   ]
  },
  {
   "cell_type": "code",
   "execution_count": 110,
   "id": "ongoing-pizza",
   "metadata": {},
   "outputs": [
    {
     "name": "stdout",
     "output_type": "stream",
     "text": [
      "Epoch 1/10\n",
      "561/561 [==============================] - 2768s 5s/step - loss: 0.5114 - accuracy: 0.7544 - val_loss: 0.4516 - val_accuracy: 0.7989\n",
      "Epoch 2/10\n",
      "561/561 [==============================] - 2765s 5s/step - loss: 0.3304 - accuracy: 0.8608 - val_loss: 0.4152 - val_accuracy: 0.8214\n",
      "Epoch 3/10\n",
      "561/561 [==============================] - 2738s 5s/step - loss: 0.2473 - accuracy: 0.9015 - val_loss: 0.4479 - val_accuracy: 0.8049\n",
      "Epoch 4/10\n",
      "561/561 [==============================] - 2861s 5s/step - loss: 0.1666 - accuracy: 0.9374 - val_loss: 0.5722 - val_accuracy: 0.7933\n",
      "Epoch 5/10\n",
      "561/561 [==============================] - 2919s 5s/step - loss: 0.1118 - accuracy: 0.9596 - val_loss: 0.6481 - val_accuracy: 0.7921\n",
      "Epoch 6/10\n",
      "561/561 [==============================] - 3086s 6s/step - loss: 0.0641 - accuracy: 0.9792 - val_loss: 0.8948 - val_accuracy: 0.7868\n",
      "Epoch 7/10\n",
      "561/561 [==============================] - 3028s 5s/step - loss: 0.0396 - accuracy: 0.9876 - val_loss: 0.9700 - val_accuracy: 0.7888\n",
      "Epoch 8/10\n",
      "561/561 [==============================] - 2839s 5s/step - loss: 0.0266 - accuracy: 0.9916 - val_loss: 1.1023 - val_accuracy: 0.7945\n",
      "Epoch 9/10\n",
      "561/561 [==============================] - 2781s 5s/step - loss: 0.0176 - accuracy: 0.9947 - val_loss: 1.1836 - val_accuracy: 0.7856\n",
      "Epoch 10/10\n",
      "561/561 [==============================] - 2860s 5s/step - loss: 0.0195 - accuracy: 0.9934 - val_loss: 1.2214 - val_accuracy: 0.7792\n"
     ]
    },
    {
     "data": {
      "text/plain": [
       "<tensorflow.python.keras.callbacks.History at 0x7ff447d4b5d0>"
      ]
     },
     "execution_count": 110,
     "metadata": {},
     "output_type": "execute_result"
    }
   ],
   "source": [
    "epochs = 10\n",
    "batch_size = 40\n",
    "model4.fit(X_train, y_train, \n",
    "          epochs=epochs, \n",
    "          batch_size=batch_size,\n",
    "          validation_split=0.1)"
   ]
  },
  {
   "cell_type": "code",
   "execution_count": 111,
   "id": "complimentary-norman",
   "metadata": {},
   "outputs": [
    {
     "name": "stdout",
     "output_type": "stream",
     "text": [
      "267/267 - 306s - loss: 1.2396 - accuracy: 0.7653\n",
      "loss: 1.2395814657211304\n",
      "Validation accuracy: 0.7653176188468933\n"
     ]
    }
   ],
   "source": [
    "loss, acc = model4.evaluate(X_test, y_test, verbose=2,\n",
    "                            batch_size=batch_size)\n",
    "print(f\"loss: {loss}\")\n",
    "print(f\"Validation accuracy: {acc}\")"
   ]
  },
  {
   "cell_type": "code",
   "execution_count": null,
   "id": "seeing-western",
   "metadata": {},
   "outputs": [],
   "source": []
  },
  {
   "cell_type": "code",
   "execution_count": null,
   "id": "dying-allergy",
   "metadata": {},
   "outputs": [],
   "source": [
    "!wget https://gist.githubusercontent.com/bastings/d6f99dcb6c82231b94b013031356ba05/raw/f80a0281eba8621b122012c89c8b5e2200b39fd6/sent_lexicon"
   ]
  }
 ],
 "metadata": {
  "kernelspec": {
   "display_name": "Python 3",
   "language": "python",
   "name": "python3"
  },
  "language_info": {
   "codemirror_mode": {
    "name": "ipython",
    "version": 3
   },
   "file_extension": ".py",
   "mimetype": "text/x-python",
   "name": "python",
   "nbconvert_exporter": "python",
   "pygments_lexer": "ipython3",
   "version": "3.7.9"
  }
 },
 "nbformat": 4,
 "nbformat_minor": 5
}
